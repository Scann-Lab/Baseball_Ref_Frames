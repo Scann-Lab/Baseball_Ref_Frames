{
 "cells": [
  {
   "cell_type": "code",
   "execution_count": 1,
   "metadata": {},
   "outputs": [
    {
     "name": "stderr",
     "output_type": "stream",
     "text": [
      "C:\\Users\\stweis\\AppData\\Local\\Continuum\\anaconda3\\lib\\site-packages\\statsmodels\\compat\\pandas.py:56: FutureWarning: The pandas.core.datetools module is deprecated and will be removed in a future version. Please use the pandas.tseries module instead.\n",
      "  from pandas.core import datetools\n"
     ]
    }
   ],
   "source": [
    "%matplotlib inline\n",
    "import numpy as np\n",
    "import matplotlib.pyplot as plt\n",
    "import seaborn as sns\n",
    "import pandas as pd\n",
    "import scipy\n",
    "import statsmodels.api as sm\n",
    "#import statsmodels.formula.api as smf\n",
    "\n",
    "#custom function\n",
    "from importData import getData\n",
    "\n",
    "#Get Data\n",
    "frizData = getData('C:\\\\Users\\\\stweis\\\\Dropbox\\\\Penn Post Doc\\\\Frisbee_Ref_Frames\\\\data\\\\batch1\\\\friz_clean')\n",
    "    \n",
    "navData = getData('C:\\\\Users\\\\stweis\\\\Dropbox\\\\Penn Post Doc\\\\Frisbee_Ref_Frames\\\\data\\\\batch1\\\\nav_clean')\n",
    "\n",
    "additionalData = pd.read_excel('C:\\\\Users\\\\stweis\\\\Dropbox\\\\Penn Post Doc\\\\Frisbee_Ref_Frames\\\\data\\\\batch1\\\\additionalData_For_Python.xlsx',header=0)\n",
    "additionalData['participant'] = additionalData['psychopycode']\n",
    "\n",
    "#Clean data functions\n",
    "def removeHighRTs(dv,data):\n",
    "    rtThresh = 2*np.std(data[dv])\n",
    "    rtMean = np.mean(data[dv])\n",
    "    dataThresh = data.loc[data[dv] < (rtMean + rtThresh)]\n",
    "    dataThresh = dataThresh.loc[dataThresh[dv] > 0]\n",
    "    return dataThresh\n",
    "\n",
    "def removeWrongAnswers(dv,data):\n",
    "    dataCorrect = data.loc[data[dv] == 1]\n",
    "    return dataCorrect\n",
    "\n",
    "\n",
    "def renameFactorLevels(data,friz_or_nav):\n",
    "        \n",
    "    data['condition'] = friz_or_nav\n",
    "    prompts = sorted(data.prompt1.unique())\n",
    "    stims = sorted(data.stim1.unique())\n",
    "    new_stims = ['far_left','far_right','near_left','near_right']\n",
    "\n",
    "    if friz_or_nav == 'friz':    \n",
    "        new_prompts = ['Away','Left','Right','Home']\n",
    "    else:\n",
    "        new_prompts = ['Away','Home','Left','Right']\n",
    "\n",
    "\n",
    "    for i in range(len(prompts)):\n",
    "        data = data.replace(prompts[i],new_prompts[i])\n",
    "        data = data.replace(stims[i],new_stims[i])\n",
    "        \n",
    "    return data\n",
    "\n",
    "\n",
    "def newFactorPrompts(row):\n",
    "    if row['prompt1'] == 'Home' or row['prompt1'] == 'Away':\n",
    "        return 'Absolute'\n",
    "    else:\n",
    "        return 'Relative'\n",
    "    \n",
    "def newFactorStims(row):\n",
    "    if row['stim1'] == 'near_right' or row['stim1'] == 'near_left':\n",
    "        return 'Near'\n",
    "    else:\n",
    "        return 'Far'\n",
    "    \n",
    "\n",
    "\n",
    "#Clean data\n",
    "frizData = renameFactorLevels(frizData,'Frisbee')\n",
    "navData = renameFactorLevels(navData,'Navigation')\n",
    "\n",
    "frizData['stimLoc'] = frizData.apply(lambda row: newFactorStims(row),axis=1)\n",
    "navData['stimLoc'] = navData.apply(lambda row: newFactorStims(row),axis=1)\n",
    "\n",
    "frizData['promptType'] = frizData.apply(lambda row: newFactorPrompts(row),axis=1)\n",
    "navData['promptType'] = navData.apply(lambda row: newFactorPrompts(row),axis=1)\n",
    "\n",
    "\n",
    "frizDataThresh = removeHighRTs('Trials_responsert',frizData)\n",
    "navDataThresh = removeHighRTs('Trials_responsert',navData)\n",
    "\n",
    "all_answers_data = frizDataThresh.append(navDataThresh)\n",
    "data = removeWrongAnswers('Trials_responsecorr',all_answers_data)\n",
    "\n",
    "unthreshed_data = frizData.append(navData)\n",
    "\n",
    "neccessaryAdditionalData = additionalData.loc[:,\n",
    "                                              [\"Sex\",\"participant\",\n",
    "                                               \"SBSOD_AVERAGE\",\n",
    "                                               \"Friz_Total_Years_Played\",\n",
    "                                               \"Friz_Force_Preference\",\n",
    "                                               \"Friz_Position\"]]\n",
    "\n",
    "\n",
    "\n"
   ]
  },
  {
   "cell_type": "code",
   "execution_count": 2,
   "metadata": {},
   "outputs": [
    {
     "name": "stderr",
     "output_type": "stream",
     "text": [
      "C:\\Users\\stweis\\AppData\\Local\\Continuum\\anaconda3\\lib\\site-packages\\pandas\\core\\reshape\\merge.py:558: UserWarning: merging between different levels can give an unintended result (3 levels on the left, 1 on the right)\n",
      "  warnings.warn(msg, UserWarning)\n"
     ]
    }
   ],
   "source": [
    "dataForPlot = all_answers_data\n",
    "\n",
    "\n",
    "# pivots data for plotting\n",
    "\n",
    "pivoted = dataForPlot.pivot_table(index='participant',columns=['condition','stimLoc','promptType'],values='Trials_responsert',aggfunc=np.mean)\n",
    "\n",
    "pivoted['Frisbee_Rel_minus_Abs_Far'] = pivoted['Frisbee']['Far']['Relative'] - pivoted['Frisbee']['Far']['Absolute']\n",
    "pivoted['Frisbee_Rel_minus_Abs_Near'] = pivoted['Frisbee']['Near']['Relative'] - pivoted['Frisbee']['Near']['Absolute']\n",
    "pivoted['Frisbee_Rel_minus_Abs'] = (pivoted['Frisbee_Rel_minus_Abs_Far'] + pivoted['Frisbee_Rel_minus_Abs_Near'])/2\n",
    "pivoted['Nav_Rel_minus_Abs_Far'] = pivoted['Navigation']['Far']['Relative'] - pivoted['Navigation']['Far']['Absolute']\n",
    "pivoted['Nav_Rel_minus_Abs_Near'] = pivoted['Navigation']['Near']['Relative'] - pivoted['Navigation']['Near']['Absolute']\n",
    "pivoted['Nav_Rel_minus_Abs'] = (pivoted['Nav_Rel_minus_Abs_Far'] + pivoted['Nav_Rel_minus_Abs_Near'])/2\n",
    "\n",
    "pivotedAllFour = dataForPlot.pivot_table(index='participant',columns=['condition','prompt1'],values='Trials_responsert',aggfunc=np.mean)\n",
    "pivotedAllFour['Friz_Back_minus_Fore'] = pivotedAllFour['Frisbee']['Left'] - pivotedAllFour['Frisbee']['Right']\n",
    "pivotedAllFour['Friz_Home_minus_Away'] = pivotedAllFour['Frisbee']['Home'] - pivotedAllFour['Frisbee']['Away']\n",
    "pivotedAllFour['Nav_Left_minus_Right'] = pivotedAllFour['Navigation']['Left'] - pivotedAllFour['Navigation']['Right']\n",
    "pivotedAllFour['Nav_Home_minus_Away'] = pivotedAllFour['Navigation']['Home'] - pivotedAllFour['Navigation']['Away']\n",
    "pivoted.sort_index(inplace=True)\n",
    "pivotedAllFour.sort_index(inplace=True)\n",
    "\n",
    "# Merges pivoted data with additional data (columns from necessaryAdditionalData)\n",
    "grandmean = dataForPlot.pivot_table(index='participant',columns=['condition'],values='Trials_responsert',aggfunc=np.mean)\n",
    "pivoted['participant'] = pivoted.index\n",
    "pivoted[['participant']] = pivoted[['participant']].apply(pd.to_numeric)\n",
    "neccessaryAdditionalData.sort_values('participant',inplace=True)\n",
    "pivoted.sort_values('participant',inplace=True)\n",
    "merged = pivoted.merge(neccessaryAdditionalData,on='participant')\n",
    "grandmean['participant'] = grandmean.index\n",
    "grandmean[['participant']] = grandmean[['participant']].apply(pd.to_numeric)\n",
    "\n",
    "merged = merged.merge(grandmean,on='participant')\n",
    "\n",
    "\n",
    "\n",
    "\n"
   ]
  },
  {
   "cell_type": "code",
   "execution_count": 3,
   "metadata": {},
   "outputs": [
    {
     "data": {
      "image/png": "[encoded data removed]",
      "text/plain": [
       "<matplotlib.figure.Figure at 0x1f12ad73fd0>"
      ]
     },
     "metadata": {},
     "output_type": "display_data"
    }
   ],
   "source": [
    "nonaPivoted = pivoted.dropna()\n",
    "ax1 = sns.distplot(nonaPivoted['Nav_Rel_minus_Abs'],label='Navigation')\n",
    "sns.distplot(nonaPivoted['Frisbee_Rel_minus_Abs'],label='Frisbee')\n",
    "ax1.set(xlabel='Difference between Relative and Absolute Prompts',ylabel='Frequency')\n",
    "plt.legend()\n",
    "plt.show()"
   ]
  }
 ],
 "metadata": {
  "kernelspec": {
   "display_name": "Python 3 (Spyder)",
   "language": "python3",
   "name": "python3"
  },
  "language_info": {
   "codemirror_mode": {
    "name": "ipython",
    "version": 3
   },
   "file_extension": ".py",
   "mimetype": "text/x-python",
   "name": "python",
   "nbconvert_exporter": "python",
   "pygments_lexer": "ipython3",
   "version": "3.6.4"
  }
 },
 "nbformat": 4,
 "nbformat_minor": 2
}
